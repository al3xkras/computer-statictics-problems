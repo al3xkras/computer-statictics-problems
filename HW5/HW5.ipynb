{
 "cells": [
  {
   "cell_type": "code",
   "execution_count": 4,
   "id": "7bca69eb",
   "metadata": {},
   "outputs": [],
   "source": [
    "import sympy as sp\n",
    "from IPython.display import display"
   ]
  },
  {
   "cell_type": "markdown",
   "id": "6f40ddc1",
   "metadata": {},
   "source": [
    "HW 5: 3.5 (7,10), 3.6 (6б)"
   ]
  },
  {
   "cell_type": "markdown",
   "id": "46c0d45e",
   "metadata": {},
   "source": [
    "![](images/1.png)"
   ]
  },
  {
   "cell_type": "markdown",
   "id": "76194200",
   "metadata": {},
   "source": [
    "Thm: Estimator $\\overset{\\land}{\\theta}$ is an optimal (efficient) estimator of parameter $\\theta $, if: $e(\\overset{\\land}{\\theta}) = \\frac{1}{I(\\theta)D\\overset{\\land}{\\theta}} = 1$, where $I(\\theta) - \\text{Fisher information of the distribution}$\n",
    "\n",
    "$X = (\\xi_1, ... , \\xi_n): \\xi_i \\sim N(\\mu, \\sigma^2) - iidrv, i = \\overline{1,n}$\n",
    "\n",
    "$I(\\mu,\\sigma) = \\begin{bmatrix}\n",
    "    1/\\sigma^2 & 0\\\\\n",
    "    0 & 2/\\sigma^2\n",
    "\\end{bmatrix}$\n",
    "\n",
    "$\\Rightarrow I(\\mu) = I^{-1}_{0,0}$"
   ]
  },
  {
   "cell_type": "code",
   "execution_count": 5,
   "id": "1a8598e9",
   "metadata": {},
   "outputs": [
    {
     "name": "stdout",
     "output_type": "stream",
     "text": [
      "Inverse of I: \n"
     ]
    },
    {
     "data": {
      "text/latex": [
       "$\\displaystyle \\left[\\begin{matrix}\\sigma^{2} & 0\\\\0 & \\frac{\\sigma^{2}}{2}\\end{matrix}\\right]$"
      ],
      "text/plain": [
       "Matrix([\n",
       "[\\sigma**2,           0],\n",
       "[        0, \\sigma**2/2]])"
      ]
     },
     "metadata": {},
     "output_type": "display_data"
    }
   ],
   "source": [
    "mu,sg=sp.symbols(\"\\mu,\\sigma\")\n",
    "\n",
    "I = sp.Matrix([\n",
    "    [1/sg**2,0],\n",
    "    [0,2/sg**2]\n",
    "])\n",
    "\n",
    "I_inv = I.inv()\n",
    "print(\"Inverse of I: \")\n",
    "display(I_inv)"
   ]
  },
  {
   "cell_type": "code",
   "execution_count": 6,
   "id": "4d88cbe4",
   "metadata": {},
   "outputs": [
    {
     "data": {
      "text/latex": [
       "$\\displaystyle \\sigma^{2}$"
      ],
      "text/plain": [
       "\\sigma**2"
      ]
     },
     "execution_count": 6,
     "metadata": {},
     "output_type": "execute_result"
    }
   ],
   "source": [
    "i_mu = I_inv[0,0]\n",
    "i_mu"
   ]
  },
  {
   "cell_type": "markdown",
   "id": "9d18702a",
   "metadata": {},
   "source": [
    "$I^{-1}(\\mu) = \\sigma^2 \\Rightarrow $ The estimator $\\overset{\\land}{\\mu}$ is efficient $\\iff \n",
    "\\frac{\\sigma^2}{D\\overset{\\land}{\\mu}} \\equiv 1\n",
    "$\n",
    "\n"
   ]
  },
  {
   "cell_type": "markdown",
   "id": "a64b9152",
   "metadata": {},
   "source": [
    "Let $ \\overset{\\land}{\\mu} = \\overline{X} -$ sample mean\n",
    "\n",
    "$ \\Rightarrow \\overset{\\land}{\\mu} $ is consistent and assymptotically normal.\n",
    "\n",
    "$ \\overset{\\land}{\\mu}$ is assymptotically normal $\\Rightarrow \\overset{\\land}{\\mu} \\sim N(\\mu,\\sigma_1^2), \\sigma_1\\geq\\sigma \\text{ (Cramer-Rao bound)} \\Rightarrow $\n",
    "\n",
    "$ D\\overset{\\land}{\\mu} = \\sigma_1^2, \\forall \\xi_i,\\xi_j \\in X: \\xi_i+\\xi_j \\sim N(\\mu,2\\sigma^2) \\text{(property of the Normal distribution)}$\n",
    "\n",
    "$\\Rightarrow (\\xi_1+...+\\xi_n)/n = \\overset{\\land}{\\mu} \\sim N(\\mu,\\sigma^2)$\n",
    "\n",
    "$\\Rightarrow \\sigma_1 = \\sigma \\Rightarrow e(\\overset{\\land}{\\mu}) = \\frac{\\sigma^2}{\\sigma^2} = 1$\n",
    "\n",
    "$\\Rightarrow \\text{ Estimator } \\overset{\\land}{\\mu} \\text{ is efficient.  } \\square$"
   ]
  },
  {
   "cell_type": "markdown",
   "id": "450ea5cd",
   "metadata": {},
   "source": [
    "![](images/2.png)"
   ]
  },
  {
   "cell_type": "markdown",
   "id": "839356a2",
   "metadata": {},
   "source": [
    "Exponential model: $dL(X,\\theta)/d\\theta = \\frac{(T(X) - \\tau(\\theta))}{c(\\theta)}$\n",
    "\n",
    "$c(\\theta) = \\frac{\\tau(\\theta)}{I(\\theta)}$\n",
    "\n",
    "1. $Binom(n,p)$:\n",
    "\n",
    "    $I(p) = \\frac{n}{p(1-p)}$, n = const\n",
    "    \n",
    "    $\\overset{\\land}{p} = \\overline{X}/n$\n",
    "    \n",
    "    $I_p = \\frac{p(1-p)}{n} = \\frac{dL(X,p)}{dp}$\n",
    "    \n",
    "    $\\tau(p) = \\frac{p-2p^2}{1-p-p^2}$ - exists $\\Rightarrow \\square$\n",
    "   \n",
    "   <br> \n",
    "2. Poisson:\n",
    "\n",
    "   $\\tau(\\lambda) = \\frac{1}{\\lambda^2-1}$ - exists $\\Rightarrow \\square$\n",
    "   <br>\n",
    "3. Exponential\n",
    "\n",
    "   $\\tau(\\lambda) = \\frac{1}{\\lambda^4-1}$ - exists $\\Rightarrow \\square$\n",
    "   <br>\n",
    "4. Normal\n",
    "\n",
    "   proved in the previous task\n",
    "   <br>"
   ]
  },
  {
   "cell_type": "markdown",
   "id": "6dd7f148",
   "metadata": {},
   "source": [
    "![](images/3.png)"
   ]
  },
  {
   "cell_type": "code",
   "execution_count": 87,
   "id": "982fc357",
   "metadata": {},
   "outputs": [
    {
     "name": "stdout",
     "output_type": "stream",
     "text": [
      "X = [51 51 51 55 49 44 38 57 48 53]\n",
      "estimated parameters: (n,p) = (108,0.4565392354124749)\n",
      "L(X,n,p) =  4.536735414662252e-14\n"
     ]
    }
   ],
   "source": [
    "#a\n",
    "import numpy as np\n",
    "import scipy.stats as sc\n",
    "\n",
    "\n",
    "size=10\n",
    "\n",
    "n = 150\n",
    "p = 0.35\n",
    "\n",
    "mu=n*p\n",
    "sg=n*p*(1-p)\n",
    "\n",
    "X = sc.binom.rvs(n,p,size=size)\n",
    "\n",
    "#using normal approximation\n",
    "mu_e,sg_e = X.mean(),X.std()**2\n",
    "p_e = 1 - sg_e/mu_e\n",
    "n_e = int(mu_e/p_e)\n",
    "print(\"X = %s\"%X)\n",
    "print(\"estimated parameters: (n,p) = (%s,%s)\"%(n_e,p_e))\n",
    "\n",
    "likelihood = np.product(sc.binom.pmf(X,n_e,p_e))\n",
    "print(\"L(X,n,p) = \",likelihood)\n"
   ]
  },
  {
   "cell_type": "code",
   "execution_count": 88,
   "id": "8843559f",
   "metadata": {},
   "outputs": [
    {
     "name": "stdout",
     "output_type": "stream",
     "text": [
      "X = [13.42250569 15.87556484 15.20765949 16.63615621 17.24495261 17.01619091\n",
      " 16.00400088 14.16516823 17.31550681 15.91397381 11.86042586 15.49579693\n",
      " 14.90145656 16.72121026 15.523094  ]\n",
      "\n",
      "estimated parameters: (mu,sigma) = (15.553577539090785,2.115591559743378)\n",
      "L(X,n,p) =  3.913387694990123e-13\n"
     ]
    }
   ],
   "source": [
    "#b\n",
    "import numpy as np\n",
    "import scipy.stats as sc\n",
    "\n",
    "\n",
    "size=15\n",
    "\n",
    "mu = 15\n",
    "sigma = 2.35\n",
    "\n",
    "\n",
    "X = sc.norm.rvs(mu,sigma,size=size)\n",
    "\n",
    "#using normal approximation\n",
    "mu_e,sg_e = X.mean(),X.std()**2\n",
    "\n",
    "print(\"X = %s\"%X)\n",
    "print()\n",
    "print(\"estimated parameters: (mu,sigma) = (%s,%s)\"%(mu_e,sg_e))\n",
    "\n",
    "likelihood = np.product(sc.norm.pdf(X,mu_e,sg_e))\n",
    "print(\"L(X,n,p) = \",likelihood)\n"
   ]
  },
  {
   "cell_type": "code",
   "execution_count": null,
   "id": "0977c822",
   "metadata": {},
   "outputs": [],
   "source": []
  }
 ],
 "metadata": {
  "kernelspec": {
   "display_name": "Python 3 (ipykernel)",
   "language": "python",
   "name": "python3"
  },
  "language_info": {
   "codemirror_mode": {
    "name": "ipython",
    "version": 3
   },
   "file_extension": ".py",
   "mimetype": "text/x-python",
   "name": "python",
   "nbconvert_exporter": "python",
   "pygments_lexer": "ipython3",
   "version": "3.10.7"
  }
 },
 "nbformat": 4,
 "nbformat_minor": 5
}
