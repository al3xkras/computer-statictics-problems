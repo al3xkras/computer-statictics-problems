{
 "cells": [
  {
   "cell_type": "code",
   "execution_count": 1,
   "id": "70c4ed5a",
   "metadata": {},
   "outputs": [],
   "source": [
    "import scipy.stats as sc\n",
    "import numpy as np\n",
    "import pandas as pd\n",
    "import math"
   ]
  },
  {
   "cell_type": "markdown",
   "id": "061b493c",
   "metadata": {},
   "source": [
    "HW2: 3.2 (13,14,16,4,5)"
   ]
  },
  {
   "cell_type": "markdown",
   "id": "384b7fb1",
   "metadata": {},
   "source": [
    "![](images/1.png)"
   ]
  },
  {
   "cell_type": "markdown",
   "id": "7341094f",
   "metadata": {},
   "source": [
    "![](images/2.png)"
   ]
  },
  {
   "cell_type": "markdown",
   "id": "27e2b14c",
   "metadata": {},
   "source": [
    "$p = \\frac{42}{200} = 21\\%$ - результат аналізу випадкової вибірки\n",
    "\n",
    "$\\text{Нехай } \\xi - \\text{ випадкова величина: успіх }\\Leftrightarrow\\text{ випадково обраний читач журналу-студент}$\n",
    "\n",
    "Згідно з умовою: $P(\\xi = У) = 0.25 = p$\n",
    "\n",
    "Тоді, ймовірність отримання рівно $m$ успіхів $(n=200)$ у схемі Бернуллі рівна: $P(\\xi=m) = C_n^mp^m(1-p)^{n-m}$\n",
    "\n",
    "Ймовірність отримання $\\leq$ 42 успіхів: $P(Binom(200,0.25)\\leq42)$"
   ]
  },
  {
   "cell_type": "code",
   "execution_count": 2,
   "id": "69bb0cec",
   "metadata": {},
   "outputs": [
    {
     "name": "stdout",
     "output_type": "stream",
     "text": [
      "Ймовірність одержання 42 або меншої кількості студентів-читачів рівна 0.10889\n"
     ]
    }
   ],
   "source": [
    "p=0.25\n",
    "n=200\n",
    "\n",
    "p0 = sc.binom.cdf(42,n,p)\n",
    "print(\"Ймовірність одержання 42 або меншої кількості студентів-читачів рівна %.5f\"%p0)"
   ]
  },
  {
   "cell_type": "markdown",
   "id": "e797da3a",
   "metadata": {},
   "source": [
    "![](images/3.png)"
   ]
  },
  {
   "cell_type": "markdown",
   "id": "1d4f44fd",
   "metadata": {},
   "source": [
    "Розмір вибірки: 200\n",
    "\n",
    "$\\text{Нехай } \\xi - \\text{ випадкова величина: успіх }\\Leftrightarrow\\text{ випадково обраний клієнт бажає робити покупки в інтернеті}$\n",
    "\n",
    "Тоді $P(\\xi=У)$ - ймовірність отримання рівно (Y/200)% клієнтів що бажають робити покупки в інтернеті\n",
    "\n",
    "Тобто, необхідно обчислити двосторонній 95% вірогідний інтервал величини $\\xi$\n",
    "\n",
    "$\\xi \\sim Binom(200,p) \\Rightarrow$ "
   ]
  },
  {
   "cell_type": "code",
   "execution_count": 84,
   "id": "7adb515b",
   "metadata": {},
   "outputs": [
    {
     "name": "stdout",
     "output_type": "stream",
     "text": [
      "95% двосторонній вірогіднісний інтервал невідомої ймовірності: [0.4300,0.5650]. \n",
      "Ширина інтервалу: 0.13500\n"
     ]
    }
   ],
   "source": [
    "p=0.5 \n",
    "n=200\n",
    "\n",
    "x0 = sc.binom.ppf(0.025,n,p)\n",
    "x1 = sc.binom.ppf(0.97,n,p)\n",
    "\n",
    "p0 = (x1-x0)/n\n",
    "\n",
    "print(\"95%% двосторонній вірогіднісний інтервал невідомої ймовірності: [%.4f,%.4f]. \\nШирина інтервалу: %.5f\"%\\\n",
    "      (x0/n,x1/n,p0))\n"
   ]
  },
  {
   "cell_type": "code",
   "execution_count": 92,
   "id": "ecd318e6",
   "metadata": {},
   "outputs": [],
   "source": [
    "minsize=1\n",
    "maxsize=1e6\n",
    "\n",
    "from typing import Callable\n",
    "\n",
    "p=0.5\n",
    "def f(n):\n",
    "    x0 = sc.binom.ppf(0.025,n,p)\n",
    "    x1 = sc.binom.ppf(0.975,n,p)\n",
    "    p0 = (x1-x0)/n\n",
    "    return p0<0.1\n",
    "\n",
    "def binary_search(a0,b0,f:Callable[int,bool]):\n",
    "    a=a0\n",
    "    b=b0\n",
    "    while b-a>0:\n",
    "        c = a + (b-a)//2\n",
    "        if not f(c):\n",
    "            a=c+1\n",
    "        else:\n",
    "            b=c\n",
    "    return a"
   ]
  },
  {
   "cell_type": "code",
   "execution_count": 93,
   "id": "e5946bda",
   "metadata": {},
   "outputs": [
    {
     "name": "stdout",
     "output_type": "stream",
     "text": [
      "n = 401, Ширина інтервалу: 0.09726\n"
     ]
    }
   ],
   "source": [
    "n = binary_search(minsize,maxsize,f)\n",
    "\n",
    "x0 = sc.binom.ppf(0.025,n,p)\n",
    "x1 = sc.binom.ppf(0.975,n,p)\n",
    "\n",
    "p0 = (x1-x0)/n\n",
    "\n",
    "print(\"n = %d, Ширина інтервалу: %.5f\"%\\\n",
    "      (n,p0))"
   ]
  },
  {
   "cell_type": "markdown",
   "id": "cb5350a8",
   "metadata": {},
   "source": [
    "![](images/4.png)"
   ]
  },
  {
   "cell_type": "markdown",
   "id": "b09652f6",
   "metadata": {},
   "source": [
    "Розмір вибірки: 200\n",
    "\n",
    "Нехай 𝜉− випадкова величина: успіх ⇔ випадково обраний громадянин підтримує деяку політичну партію\n",
    "\n",
    "$P(\\xi=У) = 0.4$ "
   ]
  },
  {
   "cell_type": "code",
   "execution_count": 100,
   "id": "bd20d048",
   "metadata": {},
   "outputs": [],
   "source": [
    "q=0.03\n",
    "theta=0.4\n",
    "p=0.4\n",
    "def f1(n):\n",
    "    global p\n",
    "    x0 = sc.binom.ppf(0.025,n,p)\n",
    "    x1 = sc.binom.ppf(0.975,n,p)\n",
    "    p0 = (x1-x0)/n\n",
    "    return p0<q"
   ]
  },
  {
   "cell_type": "code",
   "execution_count": 105,
   "id": "d24cd973",
   "metadata": {},
   "outputs": [
    {
     "name": "stdout",
     "output_type": "stream",
     "text": [
      "Мінімальний розмір вибірки рівний 4133\n"
     ]
    }
   ],
   "source": [
    "min_size,max_size=1,1e6 \n",
    "#теоретично мінімальний та максимальний розмір вибірки, заданий компанією\n",
    "\n",
    "n = binary_search(min_size,max_size,f1)\n",
    "\n",
    "print(\"Мінімальний розмір вибірки рівний %d\"%n)"
   ]
  },
  {
   "cell_type": "markdown",
   "id": "26fefd28",
   "metadata": {},
   "source": [
    "![](images/5.png)"
   ]
  },
  {
   "cell_type": "markdown",
   "id": "1572791d",
   "metadata": {},
   "source": [
    "\n",
    "Нехай 𝜉− випадкова величина: успіх ⇔ випадково вимога по певному типі поліса виникла у деякому році\n",
    "\n",
    "$P(\\xi=У)=0.04$\n",
    "\n",
    "n = 500\n",
    "\n",
    "Нормальне наближення: $Binom(n,p)\\approx N(\\mu=np,\\sigma=\\sqrt{np*(1-p)})$\n"
   ]
  },
  {
   "cell_type": "code",
   "execution_count": 112,
   "id": "3264d26f",
   "metadata": {},
   "outputs": [
    {
     "name": "stdout",
     "output_type": "stream",
     "text": [
      "Ймовірність того, що більше 30 полісів приведе до вимоги рівна: 0.454576\n"
     ]
    }
   ],
   "source": [
    "n = 500\n",
    "p = 0.04\n",
    "p0 = 1 - sc.norm.cdf(30,loc=n*p,scale=n*p*math.sqrt(n*p*(1-p)))\n",
    "\n",
    "print(\"Ймовірність того, що більше 30 полісів приведе до вимоги рівна: %f\"%p0)"
   ]
  },
  {
   "cell_type": "markdown",
   "id": "e4fee469",
   "metadata": {},
   "source": [
    "![](images/6.png)"
   ]
  },
  {
   "cell_type": "markdown",
   "id": "68a645a5",
   "metadata": {},
   "source": [
    "Нехай 𝜉− випадкова величина: успіх ⇔ інформація у індивідуальному записі компанії неправильна\n",
    "\n",
    "$P(\\xi=У)=0.13$\n",
    "\n",
    "n = 200"
   ]
  },
  {
   "cell_type": "code",
   "execution_count": 121,
   "id": "d514124f",
   "metadata": {},
   "outputs": [
    {
     "name": "stdout",
     "output_type": "stream",
     "text": [
      "Ймовірність того, що не більше 20 записів з 200 містять неправильну інформацію рівна 0.130000\n"
     ]
    }
   ],
   "source": [
    "p=0.13\n",
    "n=200\n",
    "ans = sc.binom.cdf(20,n,p)\n",
    "print(\"Ймовірність того, що не більше %d записів з %d містять неправильну інформацію рівна %f\"%(20,n,p))"
   ]
  },
  {
   "cell_type": "code",
   "execution_count": null,
   "id": "45fbed74",
   "metadata": {},
   "outputs": [],
   "source": []
  }
 ],
 "metadata": {
  "kernelspec": {
   "display_name": "Python 3 (ipykernel)",
   "language": "python",
   "name": "python3"
  },
  "language_info": {
   "codemirror_mode": {
    "name": "ipython",
    "version": 3
   },
   "file_extension": ".py",
   "mimetype": "text/x-python",
   "name": "python",
   "nbconvert_exporter": "python",
   "pygments_lexer": "ipython3",
   "version": "3.10.7"
  }
 },
 "nbformat": 4,
 "nbformat_minor": 5
}
