{
 "cells": [
  {
   "cell_type": "code",
   "execution_count": 1,
   "id": "70c4ed5a",
   "metadata": {},
   "outputs": [],
   "source": [
    "import scipy.stats as sc\n",
    "import numpy as np\n",
    "import pandas as pd\n",
    "import math"
   ]
  },
  {
   "cell_type": "markdown",
   "id": "061b493c",
   "metadata": {},
   "source": [
    "HW2: 3.2 (13,14,16,4,5)"
   ]
  },
  {
   "cell_type": "markdown",
   "id": "384b7fb1",
   "metadata": {},
   "source": [
    "![](images/1.png)"
   ]
  },
  {
   "cell_type": "markdown",
   "id": "7341094f",
   "metadata": {},
   "source": [
    "![](images/2.png)"
   ]
  },
  {
   "cell_type": "markdown",
   "id": "27e2b14c",
   "metadata": {},
   "source": [
    "$p = \\frac{42}{200} = 21\\%$ - результат аналізу випадкової вибірки\n",
    "\n",
    "$\\text{Нехай } \\xi - \\text{ випадкова величина: успіх }\\Leftrightarrow\\text{ випадково обраний читач журналу-студент}$\n",
    "\n",
    "Згідно з умовою: $P(\\xi = У) = 0.25 = p$\n",
    "\n",
    "Тоді, ймовірність отримання рівно $m$ успіхів $(n=200)$ у схемі Бернуллі рівна: $P(\\xi=m) = C_n^mp^m(1-p)^{n-m}$\n",
    "\n",
    "Ймовірність отримання $\\leq$ 42 успіхів: $P(Binom(200,0.25)\\leq42)$"
   ]
  },
  {
   "cell_type": "code",
   "execution_count": 2,
   "id": "69bb0cec",
   "metadata": {},
   "outputs": [
    {
     "name": "stdout",
     "output_type": "stream",
     "text": [
      "Ймовірність одержання 42 або меншої кількості студентів-читачів рівна 0.10889\n"
     ]
    }
   ],
   "source": [
    "p=0.25\n",
    "n=200\n",
    "\n",
    "p0 = sc.binom.cdf(42,n,p)\n",
    "print(\"Ймовірність одержання 42 або меншої кількості студентів-читачів рівна %.5f\"%p0)"
   ]
  },
  {
   "cell_type": "markdown",
   "id": "e797da3a",
   "metadata": {},
   "source": [
    "![](images/3.png)"
   ]
  },
  {
   "cell_type": "markdown",
   "id": "1d4f44fd",
   "metadata": {},
   "source": [
    "Розмір вибірки: 200\n",
    "\n",
    "$\\text{Нехай } \\xi - \\text{ випадкова величина: успіх }\\Leftrightarrow\\text{ випадково обраний клієнт бажає робити покупки в інтернеті}$\n",
    "\n",
    "Тоді $P(\\xi=У)$ - ймовірність отримання рівно (Y/200)% клієнтів що бажають робити покупки в інтернеті\n",
    "\n",
    "Тобто, необхідно обчислити двосторонній 95% вірогідний інтервал величини $\\xi$\n",
    "\n",
    "$\\xi \\sim Binom(200,p) \\Rightarrow$ "
   ]
  },
  {
   "cell_type": "code",
   "execution_count": 84,
   "id": "7adb515b",
   "metadata": {},
   "outputs": [
    {
     "name": "stdout",
     "output_type": "stream",
     "text": [
      "95% двосторонній вірогіднісний інтервал невідомої ймовірності: [0.4300,0.5650]. \n",
      "Ширина інтервалу: 0.13500\n"
     ]
    }
   ],
   "source": [
    "p=0.5 \n",
    "n=200\n",
    "\n",
    "x0 = sc.binom.ppf(0.025,n,p)\n",
    "x1 = sc.binom.ppf(0.97,n,p)\n",
    "\n",
    "p0 = (x1-x0)/n\n",
    "\n",
    "print(\"95%% двосторонній вірогіднісний інтервал невідомої ймовірності: [%.4f,%.4f]. \\nШирина інтервалу: %.5f\"%\\\n",
    "      (x0/n,x1/n,p0))\n"
   ]
  },
  {
   "cell_type": "code",
   "execution_count": 92,
   "id": "d8672b17",
   "metadata": {},
   "outputs": [],
   "source": [
    "minsize=1\n",
    "maxsize=1e6\n",
    "\n",
    "from typing import Callable\n",
    "\n",
    "p=0.5\n",
    "def f(n):\n",
    "    x0 = sc.binom.ppf(0.025,n,p)\n",
    "    x1 = sc.binom.ppf(0.975,n,p)\n",
    "    p0 = (x1-x0)/n\n",
    "    return p0<0.1\n",
    "\n",
    "def binary_search(a0,b0,f:Callable[int,bool]):\n",
    "    a=a0\n",
    "    b=b0\n",
    "    while b-a>0:\n",
    "        c = a + (b-a)//2\n",
    "        if not f(c):\n",
    "            a=c+1\n",
    "        else:\n",
    "            b=c\n",
    "    return a"
   ]
  },
  {
   "cell_type": "code",
   "execution_count": 93,
   "id": "826b0b42",
   "metadata": {},
   "outputs": [
    {
     "name": "stdout",
     "output_type": "stream",
     "text": [
      "n = 401, Ширина інтервалу: 0.09726\n"
     ]
    }
   ],
   "source": [
    "n = binary_search(minsize,maxsize,f)\n",
    "\n",
    "x0 = sc.binom.ppf(0.025,n,p)\n",
    "x1 = sc.binom.ppf(0.975,n,p)\n",
    "\n",
    "p0 = (x1-x0)/n\n",
    "\n",
    "print(\"n = %d, Ширина інтервалу: %.5f\"%\\\n",
    "      (n,p0))"
   ]
  },
  {
   "cell_type": "markdown",
   "id": "cb5350a8",
   "metadata": {},
   "source": [
    "![](images/4.png)"
   ]
  },
  {
   "cell_type": "markdown",
   "id": "b09652f6",
   "metadata": {},
   "source": [
    "Розмір вибірки: 200\n",
    "\n",
    "Нехай 𝜉− випадкова величина: успіх ⇔ випадково обраний громадянин підтримує деяку політичну партію\n",
    "\n",
    "$P(\\xi=У) = 0.4$ "
   ]
  },
  {
   "cell_type": "code",
   "execution_count": 100,
   "id": "d8b304d3",
   "metadata": {},
   "outputs": [],
   "source": [
    "q=0.03\n",
    "theta=0.4\n",
    "p=0.4\n",
    "def f1(n):\n",
    "    global p\n",
    "    x0 = sc.binom.ppf(0.025,n,p)\n",
    "    x1 = sc.binom.ppf(0.975,n,p)\n",
    "    p0 = (x1-x0)/n\n",
    "    return p0<q"
   ]
  },
  {
   "cell_type": "code",
   "execution_count": 105,
   "id": "b683df74",
   "metadata": {},
   "outputs": [
    {
     "name": "stdout",
     "output_type": "stream",
     "text": [
      "Мінімальний розмір вибірки рівний 4133\n"
     ]
    }
   ],
   "source": [
    "min_size,max_size=1,1e6 \n",
    "#теоретично мінімальний та максимальний розмір вибірки, заданий компанією\n",
    "\n",
    "n = binary_search(min_size,max_size,f1)\n",
    "\n",
    "print(\"Мінімальний розмір вибірки рівний %d\"%n)"
   ]
  },
  {
   "cell_type": "markdown",
   "id": "26fefd28",
   "metadata": {},
   "source": [
    "![](images/5.png)"
   ]
  },
  {
   "cell_type": "markdown",
   "id": "e4fee469",
   "metadata": {},
   "source": [
    "![](images/6.png)"
   ]
  },
  {
   "cell_type": "code",
   "execution_count": null,
   "id": "d514124f",
   "metadata": {},
   "outputs": [],
   "source": []
  }
 ],
 "metadata": {
  "kernelspec": {
   "display_name": "Python 3 (ipykernel)",
   "language": "python",
   "name": "python3"
  },
  "language_info": {
   "codemirror_mode": {
    "name": "ipython",
    "version": 3
   },
   "file_extension": ".py",
   "mimetype": "text/x-python",
   "name": "python",
   "nbconvert_exporter": "python",
   "pygments_lexer": "ipython3",
   "version": "3.10.7"
  }
 },
 "nbformat": 4,
 "nbformat_minor": 5
}
