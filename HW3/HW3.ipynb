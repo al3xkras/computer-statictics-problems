{
 "cells": [
  {
   "cell_type": "markdown",
   "id": "d706dadc",
   "metadata": {},
   "source": [
    "HW3: 3.4 (5,8,9,10)"
   ]
  },
  {
   "cell_type": "code",
   "execution_count": 1,
   "id": "848d0a97",
   "metadata": {},
   "outputs": [],
   "source": [
    "import scipy.stats as sc"
   ]
  },
  {
   "cell_type": "markdown",
   "id": "9c906aba",
   "metadata": {},
   "source": [
    "![](images/0.png)"
   ]
  },
  {
   "cell_type": "markdown",
   "id": "ac0249d1",
   "metadata": {},
   "source": [
    "![](images/1.png)"
   ]
  },
  {
   "cell_type": "markdown",
   "id": "246b0b94",
   "metadata": {},
   "source": [
    "$\\xi_j \\sim N(\\mu_0,\\sigma^2), j=\\overline{1,n}$\n",
    "\n",
    "$X = (\\xi_1,...,\\xi_n)$\n",
    "\n",
    "$\\Rightarrow EX = \\mu_0,$\n",
    "\n",
    "$\\space\\space E(X^2)-EX = \\sigma^2$\n",
    "\n",
    "$\\Rightarrow \\sigma^2 = $ різниці другого та першого моментів (другий центральний момент)\n",
    "\n",
    "$\\overset{\\land}{\\sigma^2} = E(X^2)-EX$ - оцінка за методом моментів"
   ]
  },
  {
   "cell_type": "markdown",
   "id": "96834801",
   "metadata": {},
   "source": [
    "![](images/2.png)"
   ]
  },
  {
   "cell_type": "markdown",
   "id": "db76c36c",
   "metadata": {},
   "source": [
    "$\\xi \\sim N(\\mu_0,\\sigma^2)$\n",
    "\n",
    "$\\Rightarrow E\\xi = \\mu_0,$\n",
    "\n",
    "$\\space\\space E(\\xi^2)-E\\xi = \\sigma^2$\n",
    "\n",
    "$\\Rightarrow \\overset{\\land}{\\sigma} = \\sqrt{E(\\xi^2)-E\\xi}\\$,\n",
    "\n",
    "$\\Rightarrow \\overset{\\land}{\\mu} = E\\xi$ - оцінки параметрів $\\mu,\\sigma$ за методом моментів\n"
   ]
  },
  {
   "cell_type": "markdown",
   "id": "f819855a",
   "metadata": {},
   "source": [
    "![](images/3.png)"
   ]
  },
  {
   "cell_type": "markdown",
   "id": "28649e8a",
   "metadata": {},
   "source": [
    "$X = (\\xi_1, ..., \\xi_n): \\xi_i \\sim Binom(k,p), i=\\overline{1,n}$\n",
    "\n",
    "$k - $відоме\n",
    "\n",
    "$EX = kp$\n",
    "\n",
    "$EX^2-EX = kp(1-p)$\n",
    "\n",
    "$\\Rightarrow \\overset{\\land}{p} = \\frac{EX}{k}$ - оцінка параметру p за методом моментів"
   ]
  },
  {
   "cell_type": "markdown",
   "id": "24edc7fc",
   "metadata": {},
   "source": [
    "![](images/4.png)"
   ]
  },
  {
   "cell_type": "markdown",
   "id": "62a424e1",
   "metadata": {},
   "source": [
    "$f(y,\\theta) = \\frac{exp\\{-\\frac{|y|}{\\theta}\\}}{20}$\n",
    "\n",
    "$X = (\\xi_1, ...., \\xi_n), \\xi_i \\sim Exp(\\theta,x), i=\\overline{1,n}$\n",
    "\n",
    "$\\rho(x,\\theta) = \\theta e^{-\\theta x}$ - теоретична густина показникового розподілу\n",
    "\n",
    "$E\\xi_i = \\int\\limits^{\\infty}_{-\\infty}{\\frac{y*exp\\{-\\frac{|y|}{\\theta}\\}}{20}dy} = 2\\int\\limits^{\\infty}_{0}{\\frac{y*exp\\{-\\frac{y}{\\theta}\\}}{20}}dy = $\n",
    "\n",
    "$ = \\frac{\\theta}{10}$\n",
    "\n",
    "$ \\Rightarrow \\theta = 10EX$ - оцінка параметру $\\theta$ за методом моментів"
   ]
  },
  {
   "cell_type": "code",
   "execution_count": null,
   "id": "4bdbbba7",
   "metadata": {},
   "outputs": [],
   "source": []
  }
 ],
 "metadata": {
  "kernelspec": {
   "display_name": "Python 3 (ipykernel)",
   "language": "python",
   "name": "python3"
  },
  "language_info": {
   "codemirror_mode": {
    "name": "ipython",
    "version": 3
   },
   "file_extension": ".py",
   "mimetype": "text/x-python",
   "name": "python",
   "nbconvert_exporter": "python",
   "pygments_lexer": "ipython3",
   "version": "3.10.7"
  }
 },
 "nbformat": 4,
 "nbformat_minor": 5
}
