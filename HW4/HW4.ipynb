{
 "cells": [
  {
   "cell_type": "markdown",
   "id": "6294aa5a",
   "metadata": {},
   "source": [
    "HW4\n",
    "§3.4: №7\n",
    "§3.5: №13"
   ]
  },
  {
   "cell_type": "markdown",
   "id": "7c713c25",
   "metadata": {},
   "source": [
    "![](images/0.png)"
   ]
  },
  {
   "cell_type": "markdown",
   "id": "c9734267",
   "metadata": {},
   "source": [
    "![](images/1.png)"
   ]
  },
  {
   "cell_type": "markdown",
   "id": "15f9a492",
   "metadata": {},
   "source": [
    "$\\xi \\sim Exp(\\lambda) - $ Випадкова величина: тривалість роботи елемента до першого виходу з ладу.\n",
    "\n",
    "Розмір вибірки: 20\n",
    "\n",
    "Спостереження: X = [11,149,846,563,384,950,864,63,990,77,685,158,348,318,25,218,1803,63,1544,380]\n",
    "\n",
    "Елемент міняють після 200 годин роботи або першої відмови\n",
    "\n",
    "$\\rho(x,\\lambda) = \\lambda e^{-\\lambda x}$ - теоретична густина показникового розподілу\n",
    "\n",
    "$E\\xi = \\int\\limits_{0}^{200}{x\\lambda e^{-\\lambda x}}dx*\\int\\limits_{0}^{200}{\\lambda e^{-\\lambda x}}dx + 200*\\int\\limits_{200}^{+\\infty}{\\lambda e^{-\\lambda x}}dx = $\n",
    "\n",
    "$ = \\int\\limits_{0}^{200}{x\\lambda^2e^{-2\\lambda x}dx} + 200*\\int\\limits_{200}^{+\\infty}{\\lambda e^{-\\lambda x}}dx =$\n",
    "\n",
    "$ = \\frac{1}{4}e^{-400\\lambda}(-400\\lambda+e^{400\\lambda}-1) + 200e^{-200\\lambda}$\n",
    "\n",
    "Де $\\lambda = \\frac{1}{EX}$"
   ]
  },
  {
   "cell_type": "code",
   "execution_count": 2,
   "id": "594d1685",
   "metadata": {},
   "outputs": [
    {
     "ename": "ImportError",
     "evalue": "LaTeX parsing requires the antlr4 Python package, provided by pip (antlr4-python3-runtime) or conda (antlr-python-runtime), version 4.10",
     "output_type": "error",
     "traceback": [
      "\u001b[1;31m---------------------------------------------------------------------------\u001b[0m",
      "\u001b[1;31mImportError\u001b[0m                               Traceback (most recent call last)",
      "Cell \u001b[1;32mIn [2], line 4\u001b[0m\n\u001b[0;32m      1\u001b[0m \u001b[38;5;28;01mfrom\u001b[39;00m \u001b[38;5;21;01msympy\u001b[39;00m\u001b[38;5;21;01m.\u001b[39;00m\u001b[38;5;21;01mparsing\u001b[39;00m\u001b[38;5;21;01m.\u001b[39;00m\u001b[38;5;21;01mlatex\u001b[39;00m \u001b[38;5;28;01mimport\u001b[39;00m parse_latex\n\u001b[0;32m      2\u001b[0m expr\u001b[38;5;241m=\u001b[39m\u001b[38;5;124m\"\u001b[39m\u001b[38;5;130;01m\\f\u001b[39;00m\u001b[38;5;124mrac\u001b[39m\u001b[38;5;132;01m{1}\u001b[39;00m\u001b[38;5;132;01m{4}\u001b[39;00m\u001b[38;5;124me^\u001b[39m\u001b[38;5;124m{\u001b[39m\u001b[38;5;124m-400\u001b[39m\u001b[38;5;124m\\\u001b[39m\u001b[38;5;124mlambda}(-400\u001b[39m\u001b[38;5;124m\\\u001b[39m\u001b[38;5;124mlambda+e^\u001b[39m\u001b[38;5;124m{\u001b[39m\u001b[38;5;124m400\u001b[39m\u001b[38;5;124m\\\u001b[39m\u001b[38;5;124mlambda}-1) + 200e^\u001b[39m\u001b[38;5;124m{\u001b[39m\u001b[38;5;124m-200\u001b[39m\u001b[38;5;124m\\\u001b[39m\u001b[38;5;124mlambda}\u001b[39m\u001b[38;5;124m\"\u001b[39m\n\u001b[1;32m----> 4\u001b[0m E\u001b[38;5;241m=\u001b[39m\u001b[43mparse_latex\u001b[49m\u001b[43m(\u001b[49m\u001b[43mexpr\u001b[49m\u001b[43m)\u001b[49m\n\u001b[0;32m      5\u001b[0m E\n",
      "File \u001b[1;32m~\\AppData\\Local\\Programs\\Python\\Python310\\lib\\site-packages\\sympy\\parsing\\latex\\__init__.py:35\u001b[0m, in \u001b[0;36mparse_latex\u001b[1;34m(s)\u001b[0m\n\u001b[0;32m     30\u001b[0m _latex \u001b[38;5;241m=\u001b[39m import_module(\n\u001b[0;32m     31\u001b[0m     \u001b[38;5;124m'\u001b[39m\u001b[38;5;124msympy.parsing.latex._parse_latex_antlr\u001b[39m\u001b[38;5;124m'\u001b[39m,\n\u001b[0;32m     32\u001b[0m     import_kwargs\u001b[38;5;241m=\u001b[39m{\u001b[38;5;124m'\u001b[39m\u001b[38;5;124mfromlist\u001b[39m\u001b[38;5;124m'\u001b[39m: [\u001b[38;5;124m'\u001b[39m\u001b[38;5;124mX\u001b[39m\u001b[38;5;124m'\u001b[39m]})\n\u001b[0;32m     34\u001b[0m \u001b[38;5;28;01mif\u001b[39;00m _latex \u001b[38;5;129;01mis\u001b[39;00m \u001b[38;5;129;01mnot\u001b[39;00m \u001b[38;5;28;01mNone\u001b[39;00m:\n\u001b[1;32m---> 35\u001b[0m     \u001b[38;5;28;01mreturn\u001b[39;00m \u001b[43m_latex\u001b[49m\u001b[38;5;241;43m.\u001b[39;49m\u001b[43mparse_latex\u001b[49m\u001b[43m(\u001b[49m\u001b[43ms\u001b[49m\u001b[43m)\u001b[49m\n",
      "File \u001b[1;32m~\\AppData\\Local\\Programs\\Python\\Python310\\lib\\site-packages\\sympy\\parsing\\latex\\_parse_latex_antlr.py:66\u001b[0m, in \u001b[0;36mparse_latex\u001b[1;34m(sympy)\u001b[0m\n\u001b[0;32m     62\u001b[0m antlr4 \u001b[38;5;241m=\u001b[39m import_module(\u001b[38;5;124m'\u001b[39m\u001b[38;5;124mantlr4\u001b[39m\u001b[38;5;124m'\u001b[39m)\n\u001b[0;32m     64\u001b[0m \u001b[38;5;28;01mif\u001b[39;00m \u001b[38;5;28;01mNone\u001b[39;00m \u001b[38;5;129;01min\u001b[39;00m [antlr4, MathErrorListener] \u001b[38;5;129;01mor\u001b[39;00m \\\n\u001b[0;32m     65\u001b[0m         version(\u001b[38;5;124m'\u001b[39m\u001b[38;5;124mantlr4-python3-runtime\u001b[39m\u001b[38;5;124m'\u001b[39m) \u001b[38;5;241m!=\u001b[39m \u001b[38;5;124m'\u001b[39m\u001b[38;5;124m4.10\u001b[39m\u001b[38;5;124m'\u001b[39m:\n\u001b[1;32m---> 66\u001b[0m     \u001b[38;5;28;01mraise\u001b[39;00m \u001b[38;5;167;01mImportError\u001b[39;00m(\u001b[38;5;124m\"\u001b[39m\u001b[38;5;124mLaTeX parsing requires the antlr4 Python package,\u001b[39m\u001b[38;5;124m\"\u001b[39m\n\u001b[0;32m     67\u001b[0m                       \u001b[38;5;124m\"\u001b[39m\u001b[38;5;124m provided by pip (antlr4-python3-runtime) or\u001b[39m\u001b[38;5;124m\"\u001b[39m\n\u001b[0;32m     68\u001b[0m                       \u001b[38;5;124m\"\u001b[39m\u001b[38;5;124m conda (antlr-python-runtime), version 4.10\u001b[39m\u001b[38;5;124m\"\u001b[39m)\n\u001b[0;32m     70\u001b[0m matherror \u001b[38;5;241m=\u001b[39m MathErrorListener(sympy)\n\u001b[0;32m     72\u001b[0m stream \u001b[38;5;241m=\u001b[39m antlr4\u001b[38;5;241m.\u001b[39mInputStream(sympy)\n",
      "\u001b[1;31mImportError\u001b[0m: LaTeX parsing requires the antlr4 Python package, provided by pip (antlr4-python3-runtime) or conda (antlr-python-runtime), version 4.10"
     ]
    }
   ],
   "source": [
    "from sympy.parsing.latex import parse_latex\n",
    "expr=\"\\frac{1}{4}e^{-400\\lambda}(-400\\lambda+e^{400\\lambda}-1) + 200e^{-200\\lambda}\"\n",
    "\n",
    "E=parse_latex(expr)\n",
    "E"
   ]
  },
  {
   "cell_type": "markdown",
   "id": "3a0b99e2",
   "metadata": {},
   "source": [
    "![](images/2.png)"
   ]
  },
  {
   "cell_type": "markdown",
   "id": "9889c456",
   "metadata": {},
   "source": [
    "![](images/3.png)"
   ]
  },
  {
   "cell_type": "code",
   "execution_count": null,
   "id": "9b044927",
   "metadata": {},
   "outputs": [],
   "source": []
  }
 ],
 "metadata": {
  "kernelspec": {
   "display_name": "Python 3 (ipykernel)",
   "language": "python",
   "name": "python3"
  },
  "language_info": {
   "codemirror_mode": {
    "name": "ipython",
    "version": 3
   },
   "file_extension": ".py",
   "mimetype": "text/x-python",
   "name": "python",
   "nbconvert_exporter": "python",
   "pygments_lexer": "ipython3",
   "version": "3.10.7"
  }
 },
 "nbformat": 4,
 "nbformat_minor": 5
}
