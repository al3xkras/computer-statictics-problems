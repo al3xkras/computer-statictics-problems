{
 "cells": [
  {
   "cell_type": "code",
   "execution_count": 7,
   "id": "1353838e",
   "metadata": {},
   "outputs": [],
   "source": [
    "import scipy.stats as sc\n",
    "import numpy as np\n",
    "from IPython.display import display, Math"
   ]
  },
  {
   "cell_type": "markdown",
   "id": "ae51eabd",
   "metadata": {},
   "source": [
    "<pre>\n",
    "\n",
    "дз 7 компстат\n",
    "3.9 (6,7,8,9)"
   ]
  },
  {
   "cell_type": "markdown",
   "id": "1e92447f",
   "metadata": {},
   "source": [
    "![](images/1.png)"
   ]
  },
  {
   "cell_type": "markdown",
   "id": "20b43172",
   "metadata": {},
   "source": [
    "$\\xi \\sim N(\\mu,\\sigma^2),\\space \\sigma = 2$\n",
    "\n",
    "$n = 36, \\gamma = 0.95$\n",
    "\n",
    "Надійний інтервал для оцінки $E\\xi$: $[a,b]: P(a\\leq E\\xi\\leq b) = \\gamma$\n",
    "\n",
    "$\\sqrt{n}(\\overset{\\land}{\\mu}-\\mu)/\\sigma \\sim N(0,1)$\n",
    "\n",
    "95% confidence inferval of $\\sqrt{n}(\\overset{\\land}{\\mu}-\\mu)/\\sigma$: (-1.96,1.96)\n",
    "\n",
    "95% confidence inferval of $\\sqrt{n}(\\overset{\\land}{\\mu}-\\mu)$: (-3.92,3.92)\n",
    "\n",
    "95% confidence inferval of $\\overset{\\land}{\\mu}-\\mu$: (-0.65,0.65)\n",
    "\n",
    "95% confidence inferval of $\\mu = E\\xi: (\\overset{\\land}{\\mu}-0.65,\\overset{\\land}{\\mu}+0.65)$\n"
   ]
  },
  {
   "cell_type": "markdown",
   "id": "82c8257c",
   "metadata": {},
   "source": [
    "![](images/2.png)"
   ]
  },
  {
   "cell_type": "markdown",
   "id": "f2e2b70b",
   "metadata": {},
   "source": [
    "$(n − 1) \\overset{\\land}{s}^2_n/\\sigma^2\n",
    "\\simeq \\chi^2(n−1)$"
   ]
  },
  {
   "cell_type": "code",
   "execution_count": 64,
   "id": "03129e11",
   "metadata": {},
   "outputs": [
    {
     "data": {
      "text/latex": [
       "$\\displaystyle \\sigma^2 \\in [1.541,4.893]$"
      ],
      "text/plain": [
       "<IPython.core.display.Math object>"
      ]
     },
     "metadata": {},
     "output_type": "display_data"
    }
   ],
   "source": [
    "mu0=32.2975\n",
    "sg2=2.5282\n",
    "n = 25\n",
    "\n",
    "x0 = sc.chi2.ppf(0.025,n-1)\n",
    "x1 = sc.chi2.ppf(0.975,n-1)\n",
    "\n",
    "x0 /= sg2\n",
    "x1 /= sg2\n",
    "\n",
    "x0 /= n-1\n",
    "x1 /= n-1\n",
    "\n",
    "\n",
    "x1,x0 = 1/x0,1/x1\n",
    "\n",
    "\n",
    "display(Math(\"\\sigma^2 \\in [%.3f,%.3f]\"%(x0,x1)))"
   ]
  },
  {
   "cell_type": "markdown",
   "id": "c12b58d4",
   "metadata": {},
   "source": [
    "![](images/4.png)"
   ]
  },
  {
   "cell_type": "markdown",
   "id": "b472fa8c",
   "metadata": {},
   "source": [
    "$\\mu_0 = 1$\n",
    "\n",
    "Eстиматор $\\overset{\\land}{\\mu}$ - асимптотично нормальний з дисперсією $\\sigma^2>0$\n",
    "\n",
    "$\\overset{\\land}{\\mu} \\sim N(0,\\sigma^2)$\n",
    "\n",
    "розмір вибірки: $n$\n",
    "\n",
    "$(n − 1) \\overset{\\land}{\\sigma}^2_n/\\sigma^2\n",
    "\\simeq \\chi^2(n−1)$"
   ]
  },
  {
   "cell_type": "code",
   "execution_count": 70,
   "id": "f248f63e",
   "metadata": {},
   "outputs": [
    {
     "data": {
      "text/latex": [
       "$\\displaystyle n = 1,\\space \\sigma^2 \\in (0.000, 1.987), \\alpha=0.95$"
      ],
      "text/plain": [
       "<IPython.core.display.Math object>"
      ]
     },
     "metadata": {},
     "output_type": "display_data"
    },
    {
     "data": {
      "text/latex": [
       "$\\displaystyle n = 2,\\space \\sigma^2 \\in (0.010, 1.459), \\alpha=0.95$"
      ],
      "text/plain": [
       "<IPython.core.display.Math object>"
      ]
     },
     "metadata": {},
     "output_type": "display_data"
    },
    {
     "data": {
      "text/latex": [
       "$\\displaystyle n = 3,\\space \\sigma^2 \\in (0.028, 1.233), \\alpha=0.95$"
      ],
      "text/plain": [
       "<IPython.core.display.Math object>"
      ]
     },
     "metadata": {},
     "output_type": "display_data"
    },
    {
     "data": {
      "text/latex": [
       "$\\displaystyle n = 4,\\space \\sigma^2 \\in (0.048, 1.102), \\alpha=0.95$"
      ],
      "text/plain": [
       "<IPython.core.display.Math object>"
      ]
     },
     "metadata": {},
     "output_type": "display_data"
    },
    {
     "data": {
      "text/latex": [
       "$\\displaystyle n = 5,\\space \\sigma^2 \\in (0.066, 1.015), \\alpha=0.95$"
      ],
      "text/plain": [
       "<IPython.core.display.Math object>"
      ]
     },
     "metadata": {},
     "output_type": "display_data"
    },
    {
     "data": {
      "text/latex": [
       "$\\displaystyle n = 6,\\space \\sigma^2 \\in (0.082, 0.953), \\alpha=0.95$"
      ],
      "text/plain": [
       "<IPython.core.display.Math object>"
      ]
     },
     "metadata": {},
     "output_type": "display_data"
    },
    {
     "data": {
      "text/latex": [
       "$\\displaystyle n = 7,\\space \\sigma^2 \\in (0.095, 0.905), \\alpha=0.95$"
      ],
      "text/plain": [
       "<IPython.core.display.Math object>"
      ]
     },
     "metadata": {},
     "output_type": "display_data"
    },
    {
     "data": {
      "text/latex": [
       "$\\displaystyle n = 8,\\space \\sigma^2 \\in (0.108, 0.867), \\alpha=0.95$"
      ],
      "text/plain": [
       "<IPython.core.display.Math object>"
      ]
     },
     "metadata": {},
     "output_type": "display_data"
    },
    {
     "data": {
      "text/latex": [
       "$\\displaystyle n = 9,\\space \\sigma^2 \\in (0.119, 0.836), \\alpha=0.95$"
      ],
      "text/plain": [
       "<IPython.core.display.Math object>"
      ]
     },
     "metadata": {},
     "output_type": "display_data"
    },
    {
     "data": {
      "text/latex": [
       "$\\displaystyle n = 10,\\space \\sigma^2 \\in (0.128, 0.810), \\alpha=0.95$"
      ],
      "text/plain": [
       "<IPython.core.display.Math object>"
      ]
     },
     "metadata": {},
     "output_type": "display_data"
    },
    {
     "data": {
      "text/latex": [
       "$\\displaystyle n = 11,\\space \\sigma^2 \\in (0.137, 0.788), \\alpha=0.95$"
      ],
      "text/plain": [
       "<IPython.core.display.Math object>"
      ]
     },
     "metadata": {},
     "output_type": "display_data"
    },
    {
     "data": {
      "text/latex": [
       "$\\displaystyle n = 12,\\space \\sigma^2 \\in (0.145, 0.769), \\alpha=0.95$"
      ],
      "text/plain": [
       "<IPython.core.display.Math object>"
      ]
     },
     "metadata": {},
     "output_type": "display_data"
    },
    {
     "data": {
      "text/latex": [
       "$\\displaystyle n = 13,\\space \\sigma^2 \\in (0.152, 0.753), \\alpha=0.95$"
      ],
      "text/plain": [
       "<IPython.core.display.Math object>"
      ]
     },
     "metadata": {},
     "output_type": "display_data"
    },
    {
     "data": {
      "text/latex": [
       "$\\displaystyle n = 14,\\space \\sigma^2 \\in (0.159, 0.738), \\alpha=0.95$"
      ],
      "text/plain": [
       "<IPython.core.display.Math object>"
      ]
     },
     "metadata": {},
     "output_type": "display_data"
    },
    {
     "data": {
      "text/latex": [
       "$\\displaystyle n = 15,\\space \\sigma^2 \\in (0.165, 0.725), \\alpha=0.95$"
      ],
      "text/plain": [
       "<IPython.core.display.Math object>"
      ]
     },
     "metadata": {},
     "output_type": "display_data"
    },
    {
     "data": {
      "text/latex": [
       "$\\displaystyle n = 16,\\space \\sigma^2 \\in (0.171, 0.713), \\alpha=0.95$"
      ],
      "text/plain": [
       "<IPython.core.display.Math object>"
      ]
     },
     "metadata": {},
     "output_type": "display_data"
    },
    {
     "data": {
      "text/latex": [
       "$\\displaystyle n = 17,\\space \\sigma^2 \\in (0.176, 0.702), \\alpha=0.95$"
      ],
      "text/plain": [
       "<IPython.core.display.Math object>"
      ]
     },
     "metadata": {},
     "output_type": "display_data"
    },
    {
     "data": {
      "text/latex": [
       "$\\displaystyle n = 18,\\space \\sigma^2 \\in (0.181, 0.693), \\alpha=0.95$"
      ],
      "text/plain": [
       "<IPython.core.display.Math object>"
      ]
     },
     "metadata": {},
     "output_type": "display_data"
    },
    {
     "data": {
      "text/latex": [
       "$\\displaystyle n = 19,\\space \\sigma^2 \\in (0.185, 0.684), \\alpha=0.95$"
      ],
      "text/plain": [
       "<IPython.core.display.Math object>"
      ]
     },
     "metadata": {},
     "output_type": "display_data"
    },
    {
     "data": {
      "text/latex": [
       "$\\displaystyle n = 20,\\space \\sigma^2 \\in (0.190, 0.676), \\alpha=0.95$"
      ],
      "text/plain": [
       "<IPython.core.display.Math object>"
      ]
     },
     "metadata": {},
     "output_type": "display_data"
    },
    {
     "data": {
      "text/latex": [
       "$\\displaystyle n = 21,\\space \\sigma^2 \\in (0.194, 0.668), \\alpha=0.95$"
      ],
      "text/plain": [
       "<IPython.core.display.Math object>"
      ]
     },
     "metadata": {},
     "output_type": "display_data"
    },
    {
     "data": {
      "text/latex": [
       "$\\displaystyle n = 22,\\space \\sigma^2 \\in (0.197, 0.661), \\alpha=0.95$"
      ],
      "text/plain": [
       "<IPython.core.display.Math object>"
      ]
     },
     "metadata": {},
     "output_type": "display_data"
    },
    {
     "data": {
      "text/latex": [
       "$\\displaystyle n = 23,\\space \\sigma^2 \\in (0.201, 0.655), \\alpha=0.95$"
      ],
      "text/plain": [
       "<IPython.core.display.Math object>"
      ]
     },
     "metadata": {},
     "output_type": "display_data"
    },
    {
     "data": {
      "text/latex": [
       "$\\displaystyle n = 24,\\space \\sigma^2 \\in (0.204, 0.649), \\alpha=0.95$"
      ],
      "text/plain": [
       "<IPython.core.display.Math object>"
      ]
     },
     "metadata": {},
     "output_type": "display_data"
    },
    {
     "data": {
      "text/latex": [
       "$\\displaystyle n = 25,\\space \\sigma^2 \\in (0.208, 0.643), \\alpha=0.95$"
      ],
      "text/plain": [
       "<IPython.core.display.Math object>"
      ]
     },
     "metadata": {},
     "output_type": "display_data"
    },
    {
     "data": {
      "text/latex": [
       "$\\displaystyle n = 26,\\space \\sigma^2 \\in (0.211, 0.638), \\alpha=0.95$"
      ],
      "text/plain": [
       "<IPython.core.display.Math object>"
      ]
     },
     "metadata": {},
     "output_type": "display_data"
    },
    {
     "data": {
      "text/latex": [
       "$\\displaystyle n = 27,\\space \\sigma^2 \\in (0.213, 0.633), \\alpha=0.95$"
      ],
      "text/plain": [
       "<IPython.core.display.Math object>"
      ]
     },
     "metadata": {},
     "output_type": "display_data"
    },
    {
     "data": {
      "text/latex": [
       "$\\displaystyle n = 28,\\space \\sigma^2 \\in (0.216, 0.628), \\alpha=0.95$"
      ],
      "text/plain": [
       "<IPython.core.display.Math object>"
      ]
     },
     "metadata": {},
     "output_type": "display_data"
    },
    {
     "data": {
      "text/latex": [
       "$\\displaystyle n = 29,\\space \\sigma^2 \\in (0.219, 0.624), \\alpha=0.95$"
      ],
      "text/plain": [
       "<IPython.core.display.Math object>"
      ]
     },
     "metadata": {},
     "output_type": "display_data"
    }
   ],
   "source": [
    "eps = 0.01\n",
    "\n",
    "mu_0 = 1\n",
    "\n",
    "for n in range(1,30):\n",
    "    x0 = sc.chi2.ppf(0.025,n)\n",
    "    x1 = sc.chi2.ppf(0.975,n)\n",
    "    x0 /= sg2\n",
    "    x1 /= sg2\n",
    "    x0 /= n\n",
    "    x1 /= n\n",
    "    display(Math(\"n = %s,\\\\space \\\\sigma^2 \\\\in (%.3f, %.3f), \\\\alpha=0.95\"%(n,x0,x1)))"
   ]
  }
 ],
 "metadata": {
  "kernelspec": {
   "display_name": "Python 3 (ipykernel)",
   "language": "python",
   "name": "python3"
  },
  "language_info": {
   "codemirror_mode": {
    "name": "ipython",
    "version": 3
   },
   "file_extension": ".py",
   "mimetype": "text/x-python",
   "name": "python",
   "nbconvert_exporter": "python",
   "pygments_lexer": "ipython3",
   "version": "3.10.7"
  }
 },
 "nbformat": 4,
 "nbformat_minor": 5
}
