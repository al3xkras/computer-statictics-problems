{
 "cells": [
  {
   "cell_type": "markdown",
   "id": "4901021b",
   "metadata": {},
   "source": [
    "HW4\n",
    "§3.4: №7\n",
    "§3.5: №13"
   ]
  },
  {
   "cell_type": "markdown",
   "id": "3301fc26",
   "metadata": {},
   "source": [
    "![](images/0.png)"
   ]
  },
  {
   "cell_type": "markdown",
   "id": "5525aaad",
   "metadata": {},
   "source": [
    "![](images/1.png)"
   ]
  },
  {
   "cell_type": "markdown",
   "id": "71678a18",
   "metadata": {},
   "source": [
    "$\\xi \\sim Exp(\\lambda) - $ Випадкова величина: тривалість роботи елемента до першого виходу з ладу.\n",
    "\n",
    "Розмір вибірки: 20\n",
    "\n",
    "Спостереження: X = [11,149,846,563,384,950,864,63,990,77,685,158,348,318,25,218,1803,63,1544,380]\n",
    "\n",
    "Елемент міняють після 200 годин роботи або першої відмови\n",
    "\n",
    "$\\rho(x,\\lambda) = \\lambda e^{-\\lambda x}$ - теоретична густина показникового розподілу\n",
    "\n",
    "$E\\xi = \\int\\limits_{0}^{200}{x\\lambda e^{-\\lambda x}}dx*\\int\\limits_{0}^{200}{\\lambda e^{-\\lambda x}}dx + 200*\\int\\limits_{200}^{+\\infty}{\\lambda e^{-\\lambda x}}dx = $\n",
    "\n",
    "$ = \\int\\limits_{0}^{200}{x\\lambda^2e^{-2\\lambda x}dx} + 200*\\int\\limits_{200}^{+\\infty}{\\lambda e^{-\\lambda x}}dx =$\n",
    "\n",
    "$ = \\frac{1}{4}e^{-400\\lambda}(-400\\lambda+e^{400\\lambda}-1) + 200e^{-200\\lambda}$\n",
    "\n",
    "Де $\\lambda = \\frac{1}{EX}$"
   ]
  },
  {
   "cell_type": "code",
   "execution_count": 8,
   "id": "09237880",
   "metadata": {},
   "outputs": [
    {
     "name": "stdout",
     "output_type": "stream",
     "text": [
      "0.0019158923268512307\n"
     ]
    },
    {
     "data": {
      "text/latex": [
       "$\\displaystyle \\frac{\\left(- 400 \\lambda + e^{400 \\lambda} - 1\\right) e^{- 400 \\lambda}}{4} + 200 e^{- 200 \\lambda}$"
      ],
      "text/plain": [
       "(-400*\\lambda + exp(400*\\lambda) - 1)*exp(-400*\\lambda)/4 + 200*exp(-200*\\lambda)"
      ]
     },
     "execution_count": 8,
     "metadata": {},
     "output_type": "execute_result"
    }
   ],
   "source": [
    "import sympy as sp\n",
    "import pandas as pd\n",
    "expr=\"\\frac{1}{4}e^{-400\\lambda}(-400\\lambda+e^{400\\lambda}-1) + 200e^{-200\\lambda}\"\n",
    "\n",
    "l=sp.symbols(\"\\lambda\")\n",
    "\n",
    "E=sp.exp(-400*l)*(-400*l+sp.exp(400*l)-1)/4+200*sp.exp(-200*l)\n",
    "\n",
    "X = pd.Series([11,149,846,563,384,950,864,63,990,77,\n",
    "               685,158,348,318,25,218,1803,63,1544,380],\n",
    "              dtype=int)\n",
    "\n",
    "lam=1/X.mean()\n",
    "print(lam)\n",
    "E"
   ]
  },
  {
   "cell_type": "code",
   "execution_count": 11,
   "id": "5f153c96",
   "metadata": {},
   "outputs": [
    {
     "name": "stdout",
     "output_type": "stream",
     "text": [
      "Математичне сподівання тривалості роботи елемента за умови його заміни після 200 годин роботи або першого збою рівна: 136.383038\n"
     ]
    }
   ],
   "source": [
    "ms=E.subs(l,lam).evalf()\n",
    "\n",
    "print(\"Математичне сподівання \"\n",
    "      \"тривалості роботи елемента за умови його заміни після 200 годин\"\n",
    "      \" роботи або першого збою рівна: %f\"%ms)"
   ]
  },
  {
   "cell_type": "markdown",
   "id": "fbf24a7b",
   "metadata": {},
   "source": [
    "![](images/2.png)"
   ]
  },
  {
   "cell_type": "markdown",
   "id": "30040f0a",
   "metadata": {},
   "source": [
    "![](images/3.png)"
   ]
  },
  {
   "cell_type": "markdown",
   "id": "3cec4324",
   "metadata": {},
   "source": [
    "$X = (\\xi_1, ..., \\xi_n), \\xi_i \\sim Binom(n,p), i=\\overline{1,n}$\n",
    "\n",
    "$ P(k,\\theta) = C_N^k\\theta^k(1-\\theta)^{N-k}, k=\\overline{0,N}$ \n",
    "\n",
    "$\\overset{\\land}{\\theta} = \\frac{1}{nN}\\sum\\limits_{i=1}^{n}{\\xi_i}$\n",
    "the variance of any such estimator is at least as high as the inverse of the\n",
    "Нерівність Крамера-Рао: $\\Leftrightarrow$ Якщо дисперсія деякого незміщеного естиматора $\\geq$ оберненій інформації Фішера даного розподілу, то даний естиматор є ефективним\n",
    "\n",
    "Інформація Фішера $Binom(n,p)$ для фіксованого $n$ рівна: \n",
    "\n",
    "$I_n(p) = \\frac{n}{p(1-p)}$\n",
    "\n",
    "Дисперсія $\\overset{\\land}{\\theta}: E(\\overset{\\land}{\\theta^2}) - E\\overset{\\land}{\\theta}$\n",
    "\n",
    "$E\\overset{\\land}{\\theta} = \\frac{nN\\theta}{nN} = \\theta$\n",
    "\n",
    "$E\\overset{\\land}{\\theta^2} = E(\\frac{1}{nN}\\sum\\limits_{i=1}^{n}{\\xi_i})^2$ = \n",
    "\n",
    "$= \\frac{1}{(nN)^2}(E\\sum\\limits_{i=0}^{n}\\sum\\limits_{j=0}^{n}{2\\xi_i\\xi_j}+E\\sum\\limits_{i=0}^{n}\\xi_i^2) = $\n",
    "\n",
    "$ = \\frac{1}{(nN)^2}(2*n^2*(Np)^2 + n*(Np)^2)$ = \n",
    "\n",
    "$ = \\frac{2n^2N^2p^2+nN^2p^2}{n^2N^2} =  \\frac{(2n+1)p^2}{n} \\$\n",
    "\n",
    "$I^{-1}_n(p) = \\frac{p-p^2}{n}$\n",
    "\n",
    "$\\theta = p$\n",
    "\n",
    "$\\Rightarrow D\\overset{\\land}{\\theta} = \\frac{(2n+1)p^2-np}{n}$\n",
    "\n",
    "$ e(\\overset{\\land}{\\theta}) = \\frac{I^{-1}_n(p)}{D\\overset{\\land}{\\theta}} = \\frac{1-p}{(2n+1)p-n} $ - ефективність естиматора\n",
    "\n",
    "$e\\not\\equiv 1 \\Rightarrow$ естиматор $\\overset{\\land}{\\theta}$ не є ефективним\n"
   ]
  },
  {
   "cell_type": "code",
   "execution_count": null,
   "id": "4719c257",
   "metadata": {},
   "outputs": [],
   "source": []
  }
 ],
 "metadata": {
  "kernelspec": {
   "display_name": "Python 3 (ipykernel)",
   "language": "python",
   "name": "python3"
  },
  "language_info": {
   "codemirror_mode": {
    "name": "ipython",
    "version": 3
   },
   "file_extension": ".py",
   "mimetype": "text/x-python",
   "name": "python",
   "nbconvert_exporter": "python",
   "pygments_lexer": "ipython3",
   "version": "3.10.7"
  }
 },
 "nbformat": 4,
 "nbformat_minor": 5
}
