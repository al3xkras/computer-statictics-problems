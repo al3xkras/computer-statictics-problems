{
 "cells": [
  {
   "cell_type": "code",
   "execution_count": 1,
   "id": "70c4ed5a",
   "metadata": {},
   "outputs": [],
   "source": [
    "import scipy.stats as sc\n",
    "import numpy as np\n",
    "import pandas as pd\n",
    "import math"
   ]
  },
  {
   "cell_type": "markdown",
   "id": "061b493c",
   "metadata": {},
   "source": [
    "HW2: 3.2 (13,14,16,4,5)"
   ]
  },
  {
   "cell_type": "markdown",
   "id": "384b7fb1",
   "metadata": {},
   "source": [
    "![](images/1.png)"
   ]
  },
  {
   "cell_type": "markdown",
   "id": "7341094f",
   "metadata": {},
   "source": [
    "![](images/2.png)"
   ]
  },
  {
   "cell_type": "markdown",
   "id": "27e2b14c",
   "metadata": {},
   "source": [
    "$p = \\frac{42}{200} = 21\\%$ - результат аналізу випадкової вибірки\n",
    "\n",
    "$\\text{Нехай } \\xi - \\text{ випадкова величина: успіх }\\Leftrightarrow\\text{ випадково обраний читач журналу-студент}$\n",
    "\n",
    "Згідно з умовою: $P(\\xi = У) = 0.25 = p$\n",
    "\n",
    "Тоді, ймовірність отримання рівно $m$ успіхів $(n=200)$ у схемі Бернуллі рівна: $P(\\xi=m) = C_n^mp^m(1-p)^{n-m}$\n",
    "\n",
    "Ймовірність отримання $\\leq$ 42 успіхів: $P(Binom(200,0.25)\\leq42)$"
   ]
  },
  {
   "cell_type": "code",
   "execution_count": 14,
   "id": "69bb0cec",
   "metadata": {},
   "outputs": [
    {
     "name": "stdout",
     "output_type": "stream",
     "text": [
      "Ймовірність одержання 42 або меншої кількості студентів-читачів рівна 0.10889\n"
     ]
    }
   ],
   "source": [
    "p=0.25\n",
    "n=200\n",
    "\n",
    "p0 = sc.binom.cdf(42,n,p)\n",
    "print(\"Ймовірність одержання 42 або меншої кількості студентів-читачів рівна %.5f\"%p0)"
   ]
  },
  {
   "cell_type": "markdown",
   "id": "e797da3a",
   "metadata": {},
   "source": [
    "![](images/3.png)"
   ]
  },
  {
   "cell_type": "markdown",
   "id": "1d4f44fd",
   "metadata": {},
   "source": [
    "Розмір вибірки: 200\n",
    "\n",
    "$\\text{Нехай } \\xi - \\text{ випадкова величина: успіх }\\Leftrightarrow\\text{ випадково обраний клієнт бажає робити покупки в інтернеті}$\n",
    "\n",
    "Тоді $P(\\xi=У)$ - ймовірність отримання рівно (Y/200)% клієнтів що бажають робити покупки в інтернеті\n",
    "\n",
    "Тобто, необхідно обчислити двосторонній 95% вірогідний інтервал величини $\\xi$\n",
    "\n",
    "$\\xi \\sim Binom(200,p) \\Rightarrow$ "
   ]
  },
  {
   "cell_type": "code",
   "execution_count": 60,
   "id": "7adb515b",
   "metadata": {},
   "outputs": [
    {
     "name": "stdout",
     "output_type": "stream",
     "text": [
      "95% двосторонній вірогіднісний інтервал невідомої ймовірності: [0.4300,0.5650]. \n",
      "Ширина інтервалу: 0.13500\n",
      "n = 400, Ширина інтервалу: 0.10000\n"
     ]
    }
   ],
   "source": [
    "p=0.5 \n",
    "n=200\n",
    "\n",
    "x0 = sc.binom.ppf(0.025,n,p)\n",
    "x1 = sc.binom.ppf(0.97,n,p)\n",
    "\n",
    "p0 = (x1-x0)/n\n",
    "\n",
    "print(\"95%% двосторонній вірогіднісний інтервал невідомої ймовірності: [%.4f,%.4f]. \\nШирина інтервалу: %.5f\"%\\\n",
    "      (x0/n,x1/n,p0))\n",
    "\n",
    "\n",
    "n=400\n",
    "\n",
    "x0 = sc.binom.ppf(0.025,n,p)\n",
    "x1 = sc.binom.ppf(0.975,n,p)\n",
    "\n",
    "p0 = (x1-x0)/n\n",
    "\n",
    "print(\"n = %d, Ширина інтервалу: %.5f\"%\\\n",
    "      (n,p0))"
   ]
  },
  {
   "cell_type": "markdown",
   "id": "cb5350a8",
   "metadata": {},
   "source": [
    "![](images/4.png)"
   ]
  },
  {
   "cell_type": "markdown",
   "id": "b09652f6",
   "metadata": {},
   "source": [
    "Розмір вибірки: 200\n",
    "\n",
    "Нехай 𝜉− випадкова величина: успіх ⇔ випадково обраний клієнт бажає робити покупки в інтернеті"
   ]
  },
  {
   "cell_type": "markdown",
   "id": "26fefd28",
   "metadata": {},
   "source": [
    "![](images/5.png)"
   ]
  },
  {
   "cell_type": "markdown",
   "id": "e4fee469",
   "metadata": {},
   "source": [
    "![](images/6.png)"
   ]
  },
  {
   "cell_type": "code",
   "execution_count": null,
   "id": "d514124f",
   "metadata": {},
   "outputs": [],
   "source": []
  }
 ],
 "metadata": {
  "kernelspec": {
   "display_name": "Python 3 (ipykernel)",
   "language": "python",
   "name": "python3"
  },
  "language_info": {
   "codemirror_mode": {
    "name": "ipython",
    "version": 3
   },
   "file_extension": ".py",
   "mimetype": "text/x-python",
   "name": "python",
   "nbconvert_exporter": "python",
   "pygments_lexer": "ipython3",
   "version": "3.10.7"
  }
 },
 "nbformat": 4,
 "nbformat_minor": 5
}
