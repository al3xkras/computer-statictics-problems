{
 "cells": [
  {
   "cell_type": "code",
   "execution_count": 7,
   "id": "1353838e",
   "metadata": {},
   "outputs": [],
   "source": [
    "import scipy.stats as sc\n",
    "import numpy as np\n",
    "from IPython.display import display, Math"
   ]
  },
  {
   "cell_type": "markdown",
   "id": "ae51eabd",
   "metadata": {},
   "source": [
    "<pre>\n",
    "\n",
    "дз 7 компстат\n",
    "3.9 (6,7,8,9)"
   ]
  },
  {
   "cell_type": "markdown",
   "id": "1e92447f",
   "metadata": {},
   "source": [
    "![](images/1.png)"
   ]
  },
  {
   "cell_type": "markdown",
   "id": "20b43172",
   "metadata": {},
   "source": [
    "$\\xi \\sim N(\\mu,\\sigma^2),\\space \\sigma = 2$\n",
    "\n",
    "$n = 36, \\gamma = 0.95$\n",
    "\n",
    "Надійний інтервал для оцінки $E\\xi$: $[a,b]: P(a\\leq E\\xi\\leq b) = \\gamma$\n",
    "\n",
    "$\\sqrt{n}(\\overset{\\land}{\\mu}-\\mu)/\\sigma \\sim N(0,1)$\n",
    "\n",
    "95% confidence inferval of $\\sqrt{n}(\\overset{\\land}{\\mu}-\\mu)/\\sigma$: (-1.96,1.96)\n",
    "\n",
    "95% confidence inferval of $\\sqrt{n}(\\overset{\\land}{\\mu}-\\mu)$: (-3.92,3.92)\n",
    "\n",
    "95% confidence inferval of $\\overset{\\land}{\\mu}-\\mu$: (-0.65,0.65)\n",
    "\n",
    "95% confidence inferval of $\\mu = E\\xi: (\\overset{\\land}{\\mu}-0.65,\\overset{\\land}{\\mu}+0.65)$\n"
   ]
  },
  {
   "cell_type": "markdown",
   "id": "82c8257c",
   "metadata": {},
   "source": [
    "![](images/2.png)"
   ]
  },
  {
   "cell_type": "markdown",
   "id": "8466cea7",
   "metadata": {},
   "source": [
    "$(n − 1) \\overset{\\land}{s}^2_n/\\sigma^2\n",
    "\\simeq \\chi^2(n−1)$"
   ]
  },
  {
   "cell_type": "code",
   "execution_count": 64,
   "id": "8302a9b8",
   "metadata": {},
   "outputs": [
    {
     "data": {
      "text/latex": [
       "$\\displaystyle \\sigma^2 \\in [1.541,4.893]$"
      ],
      "text/plain": [
       "<IPython.core.display.Math object>"
      ]
     },
     "metadata": {},
     "output_type": "display_data"
    }
   ],
   "source": [
    "mu0=32.2975\n",
    "sg2=2.5282\n",
    "n = 25\n",
    "\n",
    "x0 = sc.chi2.ppf(0.025,n-1)\n",
    "x1 = sc.chi2.ppf(0.975,n-1)\n",
    "\n",
    "x0 /= sg2\n",
    "x1 /= sg2\n",
    "\n",
    "x0 /= n-1\n",
    "x1 /= n-1\n",
    "\n",
    "\n",
    "x1,x0 = 1/x0,1/x1\n",
    "\n",
    "\n",
    "display(Math(\"\\sigma^2 \\in [%.3f,%.3f]\"%(x0,x1)))"
   ]
  },
  {
   "cell_type": "markdown",
   "id": "c12b58d4",
   "metadata": {},
   "source": [
    "![](images/5.png)"
   ]
  },
  {
   "cell_type": "markdown",
   "id": "029cea4f",
   "metadata": {},
   "source": [
    "![](images/4.png)"
   ]
  },
  {
   "cell_type": "markdown",
   "id": "5546363b",
   "metadata": {},
   "source": [
    "$n\\overset{\\land}{s}^2_n/\\sigma^2\n",
    "\\simeq \\chi^2(n)$"
   ]
  },
  {
   "cell_type": "code",
   "execution_count": 94,
   "id": "644601a9",
   "metadata": {},
   "outputs": [],
   "source": [
    "import warnings\n",
    "warnings.simplefilter(\"ignore\")"
   ]
  },
  {
   "cell_type": "code",
   "execution_count": 100,
   "id": "5caa3211",
   "metadata": {},
   "outputs": [
    {
     "name": "stdout",
     "output_type": "stream",
     "text": [
      "Confidence intervals for sigma:\n"
     ]
    },
    {
     "data": {
      "text/latex": [
       "$\\displaystyle \\sigma^2 \\in [0.012,inf], p = 0.95$"
      ],
      "text/plain": [
       "<IPython.core.display.Math object>"
      ]
     },
     "metadata": {},
     "output_type": "display_data"
    },
    {
     "data": {
      "text/latex": [
       "$\\displaystyle \\sigma^2 \\in [0.012,0.321], p = 0.95$"
      ],
      "text/plain": [
       "<IPython.core.display.Math object>"
      ]
     },
     "metadata": {},
     "output_type": "display_data"
    },
    {
     "data": {
      "text/latex": [
       "$\\displaystyle \\sigma^2 \\in [0.011,0.238], p = 0.95$"
      ],
      "text/plain": [
       "<IPython.core.display.Math object>"
      ]
     },
     "metadata": {},
     "output_type": "display_data"
    },
    {
     "data": {
      "text/latex": [
       "$\\displaystyle \\sigma^2 \\in [0.011,0.200], p = 0.95$"
      ],
      "text/plain": [
       "<IPython.core.display.Math object>"
      ]
     },
     "metadata": {},
     "output_type": "display_data"
    },
    {
     "data": {
      "text/latex": [
       "$\\displaystyle \\sigma^2 \\in [0.011,0.176], p = 0.95$"
      ],
      "text/plain": [
       "<IPython.core.display.Math object>"
      ]
     },
     "metadata": {},
     "output_type": "display_data"
    },
    {
     "data": {
      "text/latex": [
       "$\\displaystyle \\sigma^2 \\in [0.010,0.159], p = 0.95$"
      ],
      "text/plain": [
       "<IPython.core.display.Math object>"
      ]
     },
     "metadata": {},
     "output_type": "display_data"
    },
    {
     "data": {
      "text/latex": [
       "$\\displaystyle \\sigma^2 \\in [0.010,0.146], p = 0.95$"
      ],
      "text/plain": [
       "<IPython.core.display.Math object>"
      ]
     },
     "metadata": {},
     "output_type": "display_data"
    },
    {
     "data": {
      "text/latex": [
       "$\\displaystyle \\sigma^2 \\in [0.009,0.136], p = 0.95$"
      ],
      "text/plain": [
       "<IPython.core.display.Math object>"
      ]
     },
     "metadata": {},
     "output_type": "display_data"
    },
    {
     "data": {
      "text/latex": [
       "$\\displaystyle \\sigma^2 \\in [0.009,0.128], p = 0.95$"
      ],
      "text/plain": [
       "<IPython.core.display.Math object>"
      ]
     },
     "metadata": {},
     "output_type": "display_data"
    },
    {
     "data": {
      "text/latex": [
       "$\\displaystyle \\sigma^2 \\in [0.008,0.121], p = 0.95$"
      ],
      "text/plain": [
       "<IPython.core.display.Math object>"
      ]
     },
     "metadata": {},
     "output_type": "display_data"
    }
   ],
   "source": [
    "\n",
    "X = [0.92,0.89,0.78,0.82,0.92]\n",
    "#Відоме теоретичне мат. сподівання\n",
    "mu = 1\n",
    "\n",
    "Xmmu = [x-mu for x in X]\n",
    "sg2 = sum(x**2 for x in Xmmu)/(len(Xmmu)-1)\n",
    "\n",
    "n = len(X)\n",
    "\n",
    "\n",
    "def conf_int(a,alpha=0.95):\n",
    "    x0 = sc.chi2.ppf(a,n)\n",
    "    x1 = sc.chi2.ppf(alpha+a,n)\n",
    "\n",
    "    x0 /= sg2\n",
    "    x1 /= sg2\n",
    "\n",
    "    x0 /= n\n",
    "    x1 /= n\n",
    "\n",
    "    x1,x0 = 1/x0,1/x1\n",
    "\n",
    "    display(Math(\"\\sigma^2 \\in [%.3f,%.3f], p = %.2f\"%(x0,x1,alpha)))\n",
    "\n",
    "print(\"Confidence intervals for sigma:\")\n",
    "for a in np.arange(0,0.05,0.005):\n",
    "    conf_int(a)"
   ]
  },
  {
   "cell_type": "markdown",
   "id": "df446e45",
   "metadata": {},
   "source": [
    "![](images/6.png)"
   ]
  },
  {
   "cell_type": "markdown",
   "id": "5f2917e9",
   "metadata": {},
   "source": [
    "1. $n_1 = 11, \\overline{\\mu}_1 = 124, \\sigma_1^2 = 59$\n",
    "2. $n_2 = 15, \\overline{\\mu}_2 = 105, \\sigma_2^2 = 42$\n",
    "\n",
    "$\\alpha = 0.95$\n",
    "\n",
    "$P(b_1<\\mu_1-\\mu_2<b_2) = \\alpha$\n",
    "\n",
    "$b_1,b_2 - ?$\n",
    "\n",
    "Теоретична дисперсія випадкових величин відома\n",
    "\n",
    "1. $\\mu_1: \\sqrt{n_1}(\\overline{\\mu_1}-\\mu_1)/\\sigma_1 \\sim N(0,1)$\n",
    "2. $\\mu_2: \\sqrt{n_2}(\\overline{\\mu_2}-\\mu_2)/\\sigma_2 \\sim N(0,1)$\n",
    "\n",
    "Нехай $\\xi = \\mu_1-\\mu_2 \\Rightarrow E\\xi = \\mu_1-\\mu_2, D\\xi = \\sqrt{\\sigma_1^2/n_1 +\\sigma_2^2/n_2}$\n"
   ]
  },
  {
   "cell_type": "code",
   "execution_count": 111,
   "id": "92a3f08f",
   "metadata": {},
   "outputs": [],
   "source": [
    "from math import sqrt\n",
    "\n",
    "n1,mu1,sg1=11,124,59\n",
    "n2,mu2,sg2 = 15,105,42\n",
    "\n",
    "mu3,sg3=mu1-mu2,sqrt(sg1**2/n1+sg2**2/n2)\n",
    "n3 = n1*n2 #Кількість впорядкованих пар (\\xi_1,\\xi_2)\n",
    "\n",
    "m=[-1.96,1.96]\n",
    "\n",
    "m[0]/=sqrt(n3)\n",
    "m[1]/=sqrt(n3)\n",
    "\n",
    "m[0]*=sqrt(sg3)\n",
    "m[1]*=sqrt(sg3)\n",
    "\n",
    "m[0]+=mu3\n",
    "m[1]+=mu3\n"
   ]
  },
  {
   "cell_type": "code",
   "execution_count": 118,
   "id": "25600932",
   "metadata": {},
   "outputs": [
    {
     "data": {
      "text/latex": [
       "$\\displaystyle \\text{95% confidence interval for }\\mu_1-\\mu_2 \\text{ is: }[18.304,19.696]$"
      ],
      "text/plain": [
       "<IPython.core.display.Math object>"
      ]
     },
     "metadata": {},
     "output_type": "display_data"
    }
   ],
   "source": [
    "display(Math(\"\\\\text{95%% confidence interval for }\\\\mu_1-\\\\mu_2 \\\\text{ is: }[%.3f,%.3f]\"%(m[0],m[1])))\n"
   ]
  }
 ],
 "metadata": {
  "kernelspec": {
   "display_name": "Python 3 (ipykernel)",
   "language": "python",
   "name": "python3"
  },
  "language_info": {
   "codemirror_mode": {
    "name": "ipython",
    "version": 3
   },
   "file_extension": ".py",
   "mimetype": "text/x-python",
   "name": "python",
   "nbconvert_exporter": "python",
   "pygments_lexer": "ipython3",
   "version": "3.10.7"
  }
 },
 "nbformat": 4,
 "nbformat_minor": 5
}
